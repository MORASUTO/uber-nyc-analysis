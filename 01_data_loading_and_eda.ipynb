{
 "cells": [
  {
   "cell_type": "code",
   "execution_count": 1,
   "id": "d70dd7bc-4aef-4873-9492-d13b9a708baf",
   "metadata": {},
   "outputs": [],
   "source": [
    "import pandas as pd\n",
    "import numpy as np"
   ]
  },
  {
   "cell_type": "code",
   "execution_count": 2,
   "id": "b5ee464d-3816-4bca-89f2-18401b891dee",
   "metadata": {},
   "outputs": [],
   "source": [
    "df = pd.read_csv('data/uber-raw-data-janjune-15.csv')"
   ]
  },
  {
   "cell_type": "code",
   "execution_count": 3,
   "id": "51f03222-5f75-41b8-8b3c-b16a52a01337",
   "metadata": {},
   "outputs": [
    {
     "name": "stdout",
     "output_type": "stream",
     "text": [
      "  Dispatching_base_num          Pickup_date Affiliated_base_num  locationID\n",
      "0               B02617  2015-05-17 09:47:00              B02617         141\n",
      "1               B02617  2015-05-17 09:47:00              B02617          65\n",
      "2               B02617  2015-05-17 09:47:00              B02617         100\n",
      "3               B02617  2015-05-17 09:47:00              B02774          80\n",
      "4               B02617  2015-05-17 09:47:00              B02617          90\n"
     ]
    }
   ],
   "source": [
    "print(df.head())"
   ]
  },
  {
   "cell_type": "code",
   "execution_count": 4,
   "id": "df20044e-4606-464f-8612-c18e170cadae",
   "metadata": {},
   "outputs": [
    {
     "name": "stdout",
     "output_type": "stream",
     "text": [
      "<class 'pandas.core.frame.DataFrame'>\n",
      "RangeIndex: 14270479 entries, 0 to 14270478\n",
      "Data columns (total 4 columns):\n",
      " #   Column                Dtype \n",
      "---  ------                ----- \n",
      " 0   Dispatching_base_num  object\n",
      " 1   Pickup_date           object\n",
      " 2   Affiliated_base_num   object\n",
      " 3   locationID            int64 \n",
      "dtypes: int64(1), object(3)\n",
      "memory usage: 435.5+ MB\n",
      "None\n"
     ]
    }
   ],
   "source": [
    "print(df.info())"
   ]
  },
  {
   "cell_type": "code",
   "execution_count": 5,
   "id": "342b85c4-06f1-4896-bd73-26fb506f2398",
   "metadata": {},
   "outputs": [
    {
     "name": "stdout",
     "output_type": "stream",
     "text": [
      "         locationID\n",
      "count  1.427048e+07\n",
      "mean   1.520574e+02\n",
      "std    7.159620e+01\n",
      "min    1.000000e+00\n",
      "25%    9.200000e+01\n",
      "50%    1.570000e+02\n",
      "75%    2.300000e+02\n",
      "max    2.650000e+02\n"
     ]
    }
   ],
   "source": [
    "print(df.describe())"
   ]
  },
  {
   "cell_type": "code",
   "execution_count": 6,
   "id": "4f60602f-760d-4f9f-84f9-0fa45ff9f270",
   "metadata": {},
   "outputs": [
    {
     "name": "stdout",
     "output_type": "stream",
     "text": [
      "Dispatching_base_num         0\n",
      "Pickup_date                  0\n",
      "Affiliated_base_num     162195\n",
      "locationID                   0\n",
      "dtype: int64\n"
     ]
    }
   ],
   "source": [
    "print(df.isnull().sum())"
   ]
  },
  {
   "cell_type": "code",
   "execution_count": null,
   "id": "98603448-1e38-4db9-8e13-21cde288eef6",
   "metadata": {},
   "outputs": [],
   "source": []
  }
 ],
 "metadata": {
  "kernelspec": {
   "display_name": "Python 3 (ipykernel)",
   "language": "python",
   "name": "python3"
  },
  "language_info": {
   "codemirror_mode": {
    "name": "ipython",
    "version": 3
   },
   "file_extension": ".py",
   "mimetype": "text/x-python",
   "name": "python",
   "nbconvert_exporter": "python",
   "pygments_lexer": "ipython3",
   "version": "3.13.1"
  }
 },
 "nbformat": 4,
 "nbformat_minor": 5
}
